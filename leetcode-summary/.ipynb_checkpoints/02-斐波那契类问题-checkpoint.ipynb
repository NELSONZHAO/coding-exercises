{
 "cells": [
  {
   "cell_type": "markdown",
   "metadata": {},
   "source": [
    "# 1 斐波那契类问题"
   ]
  },
  {
   "cell_type": "markdown",
   "metadata": {},
   "source": [
    "斐波那切数列问题是动态规划中的经典和基础问题，由它又衍生出其它很多类型的变体，如[跳台阶](https://leetcode.com/problems/climbing-stairs/)、[矩形覆盖](https://www.nowcoder.com/practice/72a5a919508a4251859fb2cfb987a0e6?tpId=13&tqId=11163&tPage=1&rp=1&ru=%2Fta%2Fcoding-interviews&qru=%2Fta%2Fcoding-interviews%2Fquestion-ranking)等问题。\n",
    "\n",
    "斐波那契数列问题主要的解法有两种：\n",
    "- 1.自上而下：即使用递归+记忆化搜索的方式进行求解；\n",
    "- 2.自下而上：利用动态规划进行求解。\n",
    "\n",
    "更一般地，所有动态规划问题，在本质上都是递归问题的逆向求解过程。**维基百科中对动态规划的定义：将原问题拆解为若干个子问题，同时保持各个子问题的答案，使得每个子问题只求解一次，最终获得原问题的答案。**\n",
    "\n",
    "在使用递归求解时，会出现**重叠子问题**，重叠子问题可以理解为递归中出现多次求解同一个子问题，这时就需要考虑加入记忆化搜索，或者直接转化为动态规划求解，避免对同一子问题的多次求解。递归和动态规划的关系可以概括为下图：\n",
    "\n",
    "![]("
   ]
  },
  {
   "cell_type": "code",
   "execution_count": null,
   "metadata": {},
   "outputs": [],
   "source": []
  }
 ],
 "metadata": {
  "kernelspec": {
   "display_name": "Python 3",
   "language": "python",
   "name": "python3"
  },
  "language_info": {
   "codemirror_mode": {
    "name": "ipython",
    "version": 3
   },
   "file_extension": ".py",
   "mimetype": "text/x-python",
   "name": "python",
   "nbconvert_exporter": "python",
   "pygments_lexer": "ipython3",
   "version": "3.6.0"
  }
 },
 "nbformat": 4,
 "nbformat_minor": 2
}
