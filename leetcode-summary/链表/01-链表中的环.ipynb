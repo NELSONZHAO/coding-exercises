{
 "cells": [
  {
   "cell_type": "markdown",
   "metadata": {},
   "source": [
    "# 1 链表中的环\n",
    "\n",
    "在常见的链表题中，我们接触的往往都是单向链表，但在面试中会有一些考察链表中”环“的问题。链表中的”环“可以视为将一个单向链表的尾部空指针指向了其之前的某个结点，则称为该链表中有”环“。在常见的面试中，”环“的问题主要分为两个：\n",
    "\n",
    "- 1.检查链表中是否存在”环“\n",
    "- 2.检查链表中”环“的位置\n",
    "\n",
    "那么这两个问题在LeetCode中分别对应了[141号题](https://leetcode.com/problems/linked-list-cycle/)和[142号题](https://leetcode.com/problems/linked-list-cycle-ii/)。"
   ]
  },
  {
   "cell_type": "markdown",
   "metadata": {},
   "source": [
    "** 考察知识点：快慢指针 **"
   ]
  },
  {
   "cell_type": "markdown",
   "metadata": {},
   "source": [
    "# 2 问题解析"
   ]
  },
  {
   "cell_type": "markdown",
   "metadata": {},
   "source": [
    "## 2.1 “环”的存在性"
   ]
  },
  {
   "cell_type": "markdown",
   "metadata": {},
   "source": [
    "“环”的存在性检查可以使用“快慢指针”技术进行处理。\n",
    "\n",
    "思路可以其实很简单：\n",
    "\n",
    "- 1.定义快指针与慢指针，初始化为头结点\n",
    "- 2.慢指针每移动一步，快指针移动两步：\n",
    "    - 当快指针为空或快指针的next为空时，结束循环，返回false\n",
    "    - 否则，当慢指针等于快指针时，结束循环，返回true。此时快指针追赶上了慢指针，说明链表中存在“环”"
   ]
  },
  {
   "cell_type": "markdown",
   "metadata": {},
   "source": [
    "```java\n",
    "/**\n",
    " * Definition for singly-linked list.\n",
    " * class ListNode {\n",
    " *     int val;\n",
    " *     ListNode next;\n",
    " *     ListNode(int x) {\n",
    " *         val = x;\n",
    " *         next = null;\n",
    " *     }\n",
    " * }\n",
    " */\n",
    "public class Solution {\n",
    "    public boolean hasCycle(ListNode head) {\n",
    "        // 边界检查\n",
    "        if( head == null )\n",
    "            return false;\n",
    "        \n",
    "        // 初始化快慢指针为头结点\n",
    "        ListNode fastNode = head;\n",
    "        ListNode slowNode = head;\n",
    "        \n",
    "        // 循环的条件：快指针不为空 且 快指针的next不为空\n",
    "        while( fastNode != null && fastNode.next != null ) {\n",
    "            fastNode = fastNode.next.next;\n",
    "            slowNode = slowNode.next;\n",
    "                                                            \n",
    "            // 当且仅当快指针 = 慢指针时，说明链表有环，返回true\n",
    "            if( fastNode == slowNode )\n",
    "                return true;\n",
    "        }\n",
    "        \n",
    "        return false;\n",
    "    }\n",
    "}\n",
    "```"
   ]
  },
  {
   "cell_type": "markdown",
   "metadata": {},
   "source": [
    "## 2.2 “环”的位置"
   ]
  },
  {
   "cell_type": "markdown",
   "metadata": {},
   "source": [
    "”环“的位置查找其实是建立在找“环”的基础上，即当我们判断出链表中存在“环”后，再去定位“环”所在的位置。\n",
    "\n",
    "我们简单来分析一下使用“快慢指针”来寻找“环”时，可以获取哪些信息：当我们初始化快慢指针为头结点后，开始对两个指针进行移动；慢指针每走一步，快指针走两步，当链表中存在“环”时，快慢指针一定会相遇；**当快慢指针相遇时，快指针移动的步数是慢指针的两倍，或者说从head到fastNode需要走的路是从head到slowNode需要走的路的两倍**。\n",
    "\n",
    "再进一步的，当slowNode与fastNode相遇时，我们记为meetNode；当slowNode往后走，再次碰到meetNode时，此时走的步数等于从head走到meetNode的步数。除此之外，我们定义”环“的开始为cycleNode，我们可以将head走到meetNode的过程拆为两个部分：从head到cycleNode，从cycleNode到meetNode；同理我们也可以将slowNode再次走到meetNode的过程拆为：从slowNode到cycleNode，从cycleNode到meetNode；我们知道从cycleNode到meetNode的步数是固定的，因此如果head->cycleNode的步数就等于slowNode再次到cycleNode的步数，那么我们只要同时让head和meetNode一起走，那么两者一定会相遇。相遇的点即为cycleNode。\n"
   ]
  },
  {
   "cell_type": "markdown",
   "metadata": {},
   "source": [
    "我们以下图为例，来讲解这个过程：\n",
    "\n",
    "- 1.初始化slowNode和fastNode为头结点，即图中3的位置；\n",
    "- 2.快慢指针移动，它们相遇在4的位置，计为meetNode；此时fastNode移动了6次，如图中红色虚线，slowNode移动了3词，如图中绿色虚线；\n",
    "- 3.两个指针相遇时，fastNode移动次数一定是slowNode的两倍，则我们如果让meetNode继续移动，即从4开始移动，再次移动到4的位置时，meetNode被移动了3次，这个次数等于从head移动到meetNode的次数；\n",
    "- 4.meetNode从结点4开始移动，再次移动到结点4时，其经过的路径为4->6->7->4；从head移动到meetNode位置时，其路径为3->2->7->4；从7->4是必经之路，又由于两个移动的步数相同，则当两者相遇时，其位置就是cycle开始的地方。"
   ]
  },
  {
   "cell_type": "markdown",
   "metadata": {},
   "source": [
    "![](images/cycle-list.png)"
   ]
  },
  {
   "cell_type": "markdown",
   "metadata": {},
   "source": [
    "```java\n",
    "/**\n",
    " * Definition for singly-linked list.\n",
    " * class ListNode {\n",
    " *     int val;\n",
    " *     ListNode next;\n",
    " *     ListNode(int x) {\n",
    " *         val = x;\n",
    " *         next = null;\n",
    " *     }\n",
    " * }\n",
    " */\n",
    "public class Solution {\n",
    "    public ListNode detectCycle(ListNode head) {\n",
    "        // 边界检查\n",
    "        if( head == null )\n",
    "            return null;\n",
    "        \n",
    "        // 初始化快慢指针为头结点\n",
    "        ListNode fastNode = head;\n",
    "        ListNode slowNode = head;\n",
    "                                                \n",
    "        // 定义meetNode，初始化为空\n",
    "        ListNode meetNode = null;\n",
    "                                                \n",
    "        while( fastNode != null && fastNode.next != null ) {\n",
    "            fastNode = fastNode.next.next;\n",
    "            slowNode = slowNode.next;\n",
    "                                                            \n",
    "            // 当快慢指针相遇时，说明链表存在”环“，并记相遇点为meetNode，跳出循环\n",
    "            if( fastNode == slowNode ) {\n",
    "                meetNode = slowNode;\n",
    "                break;\n",
    "            }\n",
    "        }\n",
    "                                                \n",
    "        // 边界检查，如果不存在环，则直接返回空\n",
    "        if( meetNode == null )\n",
    "            return null;\n",
    "                                                \n",
    "        // 此时让head从头开始移动，meetNode也同时向后移动，两者移动速度相同，当相遇时则为退出循环，此时为链表”环“的起始位置\n",
    "        while( head != meetNode ) {\n",
    "            meetNode = meetNode.next;\n",
    "            head = head.next;\n",
    "        }\n",
    "        \n",
    "        return head;\n",
    "    }\n",
    "}\n",
    "```"
   ]
  },
  {
   "cell_type": "markdown",
   "metadata": {},
   "source": [
    "# 3 总结"
   ]
  },
  {
   "cell_type": "markdown",
   "metadata": {},
   "source": [
    "链表中”环“的问题主要考察**快慢指针技术**以及**快慢指针移动位置之间的关系**知识点。"
   ]
  }
 ],
 "metadata": {
  "kernelspec": {
   "display_name": "Python 3",
   "language": "python",
   "name": "python3"
  },
  "language_info": {
   "codemirror_mode": {
    "name": "ipython",
    "version": 3
   },
   "file_extension": ".py",
   "mimetype": "text/x-python",
   "name": "python",
   "nbconvert_exporter": "python",
   "pygments_lexer": "ipython3",
   "version": "3.6.0"
  }
 },
 "nbformat": 4,
 "nbformat_minor": 2
}
