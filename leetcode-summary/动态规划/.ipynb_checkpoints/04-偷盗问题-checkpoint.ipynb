{
 "cells": [
  {
   "cell_type": "markdown",
   "metadata": {},
   "source": [
    "# 1 偷盗问题\n",
    "\n",
    "偷盗问题也是动态规划中一类典型的问题，其基本的设定为给定一个数组，数组中每个元素代表该位置房子中物品的价值，盗贼需要在这些房子中进行偷盗进而使得所获总价值最大，但相邻房子被偷盗的话就会触发警报。\n",
    "\n",
    "上述是偷盗问题的基础版本，对应LeetCode中的[第198号题](https://leetcode.com/problems/house-robber/)。进一步地，可以在基础上增加不同的限定：\n",
    "\n",
    "- 基础版本：[198号题](https://leetcode.com/problems/house-robber/)，即上述问题描述；\n",
    "- 中级版本：[213号题](https://leetcode.com/problems/house-robber-ii/)，在基础版本上增加了一个限制，即偷盗的房屋是环形的，这意味着数组中的第0位置房间和第n-1位置房间不可以同时偷盗；\n",
    "- 高级版本：[337号题](https://leetcode.com/problems/house-robber-iii/)，在基础版本上更新了房间的存储方式，小区中房间不再是一个个连续的，而是以二叉树的方式存在，且不能同时偷盗直接相连接的结点。"
   ]
  },
  {
   "cell_type": "markdown",
   "metadata": {},
   "source": [
    "# 2 偷盗问题基础版\n",
    "\n",
    "偷盗问题的基础版实际上也是具有最优子结构的问题，即假设我们当前需要求偷盗$[0...i]$的房间所获得的最大价值，那么可以转换为求解一下候选价值的最大值：\n",
    "\n",
    "- 偷盗$[0...i-1]$房间所能获得的最大价值\n",
    "- 偷盗$[0...i-2]$房间所能获得的最大价值 + 偷盗$i$房间所能获得的最大价值\n",
    "- 偷盗$[0...i-3]$房间所能获得的最大价值 + 偷盗$i$房间所能获得的最大价值\n",
    "- $\\cdots$\n",
    "- 偷盗$0$房间所能获得的最大价值 + 偷盗$i$房间所能获得的最大价值"
   ]
  },
  {
   "cell_type": "markdown",
   "metadata": {},
   "source": [
    "通过上面的总结，我们就可以比较容易地定义出在动态规划中的状态和状态转移：\n",
    "\n",
    "- 状态定义：$f(i)$代表偷盗从$[0...i]$房间所能获得的最大价值\n",
    "- 状态转移：$f(i) = \\max\\{ f(i-1), f(i-2) + nums[i], \\cdots, f(0) + nums[i] \\}$"
   ]
  },
  {
   "cell_type": "markdown",
   "metadata": {},
   "source": [
    "代码如下：\n",
    "\n",
    "```java\n",
    "class Solution {\n",
    "    public int rob(int[] nums) {\n",
    "        // 动态规划\n",
    "        // 时间复杂度：O(n2)\n",
    "        // 空间复杂度：O(n)\n",
    "        int len = nums.length;\n",
    "        \n",
    "        if( len == 0 )\n",
    "            return 0;\n",
    "        \n",
    "        // 定义状态\n",
    "        int[] dp = new int[len];\n",
    "        dp[0] = nums[0];\n",
    "        \n",
    "        // dp\n",
    "        for( int i = 1; i < len; i++ ) {\n",
    "            // 初始化为仅偷盗当前房间\n",
    "            dp[i] = nums[i];\n",
    "            for( int j = i-1; j >= 0; j-- ) {\n",
    "                dp[i] = Math.max( dp[i], j == i-1 ? dp[j] : dp[j] + nums[i] );\n",
    "            }\n",
    "        }\n",
    "        \n",
    "        return dp[len-1];\n",
    "    }\n",
    "}\n",
    "```"
   ]
  },
  {
   "cell_type": "code",
   "execution_count": null,
   "metadata": {},
   "outputs": [],
   "source": []
  }
 ],
 "metadata": {
  "kernelspec": {
   "display_name": "Python 3",
   "language": "python",
   "name": "python3"
  },
  "language_info": {
   "codemirror_mode": {
    "name": "ipython",
    "version": 3
   },
   "file_extension": ".py",
   "mimetype": "text/x-python",
   "name": "python",
   "nbconvert_exporter": "python",
   "pygments_lexer": "ipython3",
   "version": "3.6.0"
  }
 },
 "nbformat": 4,
 "nbformat_minor": 2
}
