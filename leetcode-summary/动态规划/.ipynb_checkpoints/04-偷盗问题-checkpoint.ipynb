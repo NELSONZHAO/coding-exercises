{
 "cells": [
  {
   "cell_type": "markdown",
   "metadata": {},
   "source": [
    "# 1 偷盗问题\n",
    "\n",
    "偷盗问题也是动态规划中一类典型的问题，其基本的设定为给定一个数组，数组中每个元素代表该位置房子中物品的价值，盗贼需要在这些房子中进行偷盗进而使得所获总价值最大，但相邻房子被偷盗的话就会触发警报。\n",
    "\n",
    "上述是偷盗问题的基础版本，对应LeetCode中的[第198号题](https://leetcode.com/problems/house-robber/)。进一步地，可以在基础上增加不同的限定：\n",
    "\n",
    "- 基础版本：[198号题](https://leetcode.com/problems/house-robber/)，即上述问题描述；\n",
    "- 中级版本：[213号题](https://leetcode.com/problems/house-robber-ii/)，在基础版本上增加了一个限制，即偷盗的房屋是环形的，这意味着数组中的第0位置房间和第n-1位置房间不可以同时偷盗；\n",
    "- 高级版本：[337号题](https://leetcode.com/problems/house-robber-iii/)，在基础版本上更新了房间的存储方式，小区中房间不再是一个个连续的，而是以二叉树的方式存在，且不能同时偷盗直接相连接的结点。"
   ]
  },
  {
   "cell_type": "markdown",
   "metadata": {},
   "source": [
    "# 2 偷盗问题基础版"
   ]
  },
  {
   "cell_type": "markdown",
   "metadata": {},
   "source": [
    "## 2.1 基础解法\n",
    "\n",
    "偷盗问题的基础版实际上也是具有最优子结构的问题，即假设我们当前需要求偷盗$[0...i]$的房间所获得的最大价值，那么可以转换为求解一下候选价值的最大值：\n",
    "\n",
    "- 偷盗$[0...i-1]$房间所能获得的最大价值\n",
    "- 偷盗$[0...i-2]$房间所能获得的最大价值 + 偷盗$i$房间所能获得的最大价值\n",
    "- 偷盗$[0...i-3]$房间所能获得的最大价值 + 偷盗$i$房间所能获得的最大价值\n",
    "- $\\cdots$\n",
    "- 偷盗$0$房间所能获得的最大价值 + 偷盗$i$房间所能获得的最大价值"
   ]
  },
  {
   "cell_type": "markdown",
   "metadata": {},
   "source": [
    "通过上面的总结，我们就可以比较容易地定义出在动态规划中的状态和状态转移：\n",
    "\n",
    "- 状态定义：$f(i)$代表偷盗从$[0...i]$房间所能获得的最大价值\n",
    "- 状态转移：$f(i) = \\max\\{ f(i-1), f(i-2) + nums[i], \\cdots, f(0) + nums[i] \\}$"
   ]
  },
  {
   "cell_type": "markdown",
   "metadata": {},
   "source": [
    "代码如下：\n",
    "\n",
    "```java\n",
    "class Solution {\n",
    "    public int rob(int[] nums) {\n",
    "        // 动态规划\n",
    "        // 时间复杂度：O(n2)\n",
    "        // 空间复杂度：O(n)\n",
    "        int len = nums.length;\n",
    "        \n",
    "        if( len == 0 )\n",
    "            return 0;\n",
    "        \n",
    "        // 定义状态\n",
    "        int[] dp = new int[len];\n",
    "        dp[0] = nums[0];\n",
    "        \n",
    "        // dp\n",
    "        for( int i = 1; i < len; i++ ) {\n",
    "            // 初始化为仅偷盗当前房间\n",
    "            dp[i] = nums[i];\n",
    "            for( int j = i-1; j >= 0; j-- ) {\n",
    "                dp[i] = Math.max( dp[i], j == i-1 ? dp[j] : dp[j] + nums[i] );\n",
    "            }\n",
    "        }\n",
    "        \n",
    "        return dp[len-1];\n",
    "    }\n",
    "}\n",
    "```"
   ]
  },
  {
   "cell_type": "markdown",
   "metadata": {},
   "source": [
    "## 2.2 进一步解法"
   ]
  },
  {
   "cell_type": "markdown",
   "metadata": {},
   "source": [
    "这个题进一步地解法是可以对状态转移重新定义，状态定义依旧不变：\n",
    "\n",
    "- 状态定义：$f(i)$代表偷盗从$[0...i]$房间所能获得的最大价值\n",
    "- 状态转移：$f(i)=\\max\\{f(i-1), f(i-2) + nums[i]\\}$\n",
    "\n",
    "\n",
    "这个状态转移省略掉了很多个比较，即$f(i-3) + nums[i], f(i-4) + nums[i]$等。原因在于，当我们去考虑$f(i-2)$时，其代表的是从$[0...i-2]$这个区间内偷盗能获得的最大价值，它本身已经考虑了$[0...i-3],[0...i-4]$等区间内的最大值问题。"
   ]
  },
  {
   "cell_type": "markdown",
   "metadata": {},
   "source": [
    "```java\n",
    "class Solution {\n",
    "    public int rob(int[] nums) {\n",
    "        // 时间复杂度：O(n)\n",
    "        // 空间复杂度：O(n)\n",
    "        int len = nums.length;\n",
    "        if( len == 0 )\n",
    "            return 0;\n",
    "        \n",
    "        if( len == 1 )\n",
    "            return nums[0];\n",
    "        \n",
    "        int[] dp = new int[len];\n",
    "        dp[0] = nums[0];\n",
    "        dp[1] = Math.max( nums[0], nums[1] );\n",
    "        \n",
    "        for( int i = 2; i < len; i++ ) {\n",
    "            dp[i] = Math.max( dp[i-1], dp[i-2] + nums[i] );\n",
    "        }\n",
    "        \n",
    "        return dp[len-1];\n",
    "    }\n",
    "}\n",
    "```"
   ]
  },
  {
   "cell_type": "markdown",
   "metadata": {},
   "source": [
    "# 3 偷盗问题 - 环形小区"
   ]
  },
  {
   "cell_type": "markdown",
   "metadata": {},
   "source": [
    "在基础版偷盗问题之上，增加了新的限制，即小区的房间是环形的，意味着第一个房间与最后一个房间也不能同时偷盗。因此我们在考虑偷盗最后一个房间时，还需要同时考虑第一个房间。这个问题其实可以进一步转化：\n",
    "\n",
    "- 当我们偷最后一个房间，不偷第一个房间时，即在$[1...n-1]$区间内偷盗能获得的最大值为$value1$;\n",
    "- 当我们偷第一个房间，不偷最后一个房间时，即在$[0...n-2]$区间内偷盗能获得的最大值为$value2$;\n",
    "- 最终的解为$\\max\\{value1, value2\\}$"
   ]
  },
  {
   "cell_type": "markdown",
   "metadata": {},
   "source": [
    "```java\n",
    "class Solution {\n",
    "    public int rob(int[] nums) {\n",
    "        int len = nums.length;\n",
    "        if( len == 0 )\n",
    "            return 0;\n",
    "        \n",
    "        if( len == 1 )\n",
    "            return nums[0];\n",
    "        \n",
    "        return Math.max( helper(nums, 0, len-2), helper(nums, 1, len-1) );\n",
    "    }\n",
    "    \n",
    "    // **\n",
    "    // 在nums[l...r]区间内偷盗能够获得的最大价值\n",
    "    // **\n",
    "    private int helper(int[] nums, int l, int r ) {\n",
    "        // \n",
    "        int len = r - l + 1;\n",
    "        \n",
    "        if( len == 1)\n",
    "            return nums[l];\n",
    "        \n",
    "        int[] dp = new int[len];\n",
    "        dp[0] = nums[l];\n",
    "        dp[1] = Math.max( nums[l], nums[l+1] );\n",
    "        \n",
    "        for( int i = l + 2; i <= r; i++ ) {\n",
    "            dp[i-l] = Math.max( dp[i-l-1], dp[i-l-2] + nums[i] );\n",
    "        }\n",
    "        \n",
    "        return dp[r-l];\n",
    "    }\n",
    "}\n",
    "```"
   ]
  },
  {
   "cell_type": "markdown",
   "metadata": {},
   "source": [
    "# 4 偷盗问题 - 树形小区"
   ]
  },
  {
   "cell_type": "markdown",
   "metadata": {},
   "source": [
    "题目描述：给定一个树的根节点代表小区的房子入口，小偷需要偷盗这些房子获得最大价值，但有边连接的相邻房子偷盗会触发警报。求在不触发警报的情况下，偷盗这些房子所能获得的最大价值。\n",
    "\n",
    "例如：\n",
    "\n",
    "```\n",
    "     3\n",
    "    / \\\n",
    "   2   3\n",
    "    \\   \\ \n",
    "     3   1\n",
    "```\n",
    "\n",
    "偷盗3+3+1，获得最大价值7。"
   ]
  },
  {
   "cell_type": "markdown",
   "metadata": {},
   "source": [
    "## 4.1 递归+记忆化搜索"
   ]
  },
  {
   "cell_type": "markdown",
   "metadata": {},
   "source": [
    "```java\n",
    "/**\n",
    " * Definition for a binary tree node.\n",
    " * public class TreeNode {\n",
    " *     int val;\n",
    " *     TreeNode left;\n",
    " *     TreeNode right;\n",
    " *     TreeNode(int x) { val = x; }\n",
    " * }\n",
    " */\n",
    "class Solution {\n",
    "    // 有重叠子问题，使用记忆化搜索解决\n",
    "    Map<TreeNode, Integer> hashMap = new HashMap<>();\n",
    "    \n",
    "    public int rob(TreeNode root) {\n",
    "        // 思路：递归\n",
    "        // 递归函数的含义：给定root，返回投以root为结点往下的小区所能获得的最大价值（不一定要包含root）\n",
    "        \n",
    "        // 递归结束条件\n",
    "        if( root == null )\n",
    "            return 0;\n",
    "        \n",
    "        if( root.left == null && root.right == null )\n",
    "            return root.val;\n",
    "        \n",
    "        // 递归过程\n",
    "        if( hashMap.containsKey(root) )\n",
    "            return hashMap.get(root);\n",
    "        \n",
    "        // 情况1：不偷root\n",
    "        int res1 = rob(root.left) + rob(root.right);\n",
    "        \n",
    "        // 情况2：偷root，则左右孩子不能偷\n",
    "        int res2 = root.val;\n",
    "        if( root.left != null ) {\n",
    "            res2 += rob(root.left.left) + rob(root.left.right);\n",
    "        }\n",
    "        \n",
    "        if( root.right != null ) {\n",
    "            res2 += rob(root.right.left) + rob(root.right.right);\n",
    "        }\n",
    "        \n",
    "        int res = Math.max( res1, res2 );\n",
    "        hashMap.put(root, res);\n",
    "        return res;\n",
    "    }\n",
    "}\n",
    "```"
   ]
  },
  {
   "cell_type": "markdown",
   "metadata": {},
   "source": [
    "## 4.2 动态规划求解"
   ]
  },
  {
   "cell_type": "markdown",
   "metadata": {},
   "source": [
    "```java\n",
    "/**\n",
    " * Definition for a binary tree node.\n",
    " * public class TreeNode {\n",
    " *     int val;\n",
    " *     TreeNode left;\n",
    " *     TreeNode right;\n",
    " *     TreeNode(int x) { val = x; }\n",
    " * }\n",
    " */\n",
    "class Solution {\n",
    "    public int rob(TreeNode root) {     \n",
    "        int[] res = helper(root);\n",
    "        return Math.max(res[0], res[1]);\n",
    "    }\n",
    "    \n",
    "    //**\n",
    "    // 给定root结点的树，返回偷盗该结点及以下房子的最大收益\n",
    "    // 返回数组：res[0]代表不偷该结点，res[1]代表偷该结点\n",
    "    //**\n",
    "    private int[] helper(TreeNode root) {\n",
    "        // 偷盗root为结点的小区所能获得的最大价值\n",
    "        int[] res = new int[2]; // res[0]代表不偷root，res[1]代表偷root\n",
    "        \n",
    "        if( root == null )\n",
    "            return new int[]{0, 0};\n",
    "        \n",
    "        if( root.left == null && root.right == null )\n",
    "            return new int[]{0, root.val};\n",
    "        \n",
    "        int[] left = helper(root.left);\n",
    "        int[] right = helper(root.right);\n",
    "        \n",
    "        // 不偷root\n",
    "        res[0] = Math.max(left[0], left[1]) + Math.max(right[0], right[1]);\n",
    "        \n",
    "        // 偷root\n",
    "        res[1] = left[0] + right[0] + root.val;\n",
    "        \n",
    "        return res;\n",
    "    }\n",
    "}\n",
    "```"
   ]
  },
  {
   "cell_type": "code",
   "execution_count": null,
   "metadata": {},
   "outputs": [],
   "source": []
  }
 ],
 "metadata": {
  "kernelspec": {
   "display_name": "Python 3",
   "language": "python",
   "name": "python3"
  },
  "language_info": {
   "codemirror_mode": {
    "name": "ipython",
    "version": 3
   },
   "file_extension": ".py",
   "mimetype": "text/x-python",
   "name": "python",
   "nbconvert_exporter": "python",
   "pygments_lexer": "ipython3",
   "version": "3.6.0"
  }
 },
 "nbformat": 4,
 "nbformat_minor": 2
}
