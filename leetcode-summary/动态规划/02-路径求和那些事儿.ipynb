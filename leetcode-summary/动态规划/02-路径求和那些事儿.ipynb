{
 "cells": [
  {
   "cell_type": "markdown",
   "metadata": {},
   "source": [
    "# 1 路径求和问题"
   ]
  },
  {
   "cell_type": "markdown",
   "metadata": {},
   "source": [
    "在动态规划中有一类问题是路径求和问题，一般来说会给定一个三角形或矩形的数组，求从某个点到另一个点的最短（最大）路径之和。LeetCode中[120号题](https://leetcode.com/problems/triangle/)和[64号题](https://leetcode.com/problems/minimum-path-sum/)分别对应了三角形和矩形中求最短路径问题。"
   ]
  },
  {
   "cell_type": "markdown",
   "metadata": {},
   "source": [
    "# 2 三角形中最短路径"
   ]
  },
  {
   "cell_type": "markdown",
   "metadata": {},
   "source": [
    "## 2.1 求最短路径和"
   ]
  },
  {
   "cell_type": "markdown",
   "metadata": {},
   "source": [
    "LeetCode中120号题，给定一个三角形的数组（链表），求解从三角形顶端到底端的一条最短路径和。要求路径上某个结点只能经过位于其下方相邻的两个结点。\n",
    "\n",
    "```\n",
    "[\n",
    "     [2],\n",
    "    [3,4],\n",
    "   [6,5,7],\n",
    "  [4,1,8,3]\n",
    "]\n",
    "```\n",
    "\n",
    "这个题是典型的动态规划问题，假设我们在三角形中的(2,1)位置，此时以5为结点到根部的最短路径为`5->1`和`5->8`，此时`5->1`最短。同理，我们可以定义出我们的状态函数和状态转移函数：\n",
    "\n",
    "- 状态定义：$f(i, j)$代表三角形中以$(i,j)$位置元素为根结点的，到三角形底部的最短路径之和；\n",
    "- 状态转移：$f(i, j) = triangle(i, j) + \\min\\{f(i+1, j), f(i+1, j+1)\\}$"
   ]
  },
  {
   "cell_type": "markdown",
   "metadata": {},
   "source": [
    "代码如下：\n",
    "\n",
    "\n",
    "```java\n",
    "class Solution {\n",
    "    public int minimumTotal(List<List<Integer>> triangle) {\n",
    "        // 思路：动态规划\n",
    "        // 时间复杂度：O(n)\n",
    "        // 空间复杂度：O(row)\n",
    "        // 需要自底向上求解\n",
    "        int row = triangle.size();\n",
    "        \n",
    "        // 构造一个数组存储f(i,j)\n",
    "        int[] dp = new int[row];\n",
    "        for( int i = 0; i < row; i++ ) {\n",
    "            dp[i] = triangle.get(row-1).get(i);\n",
    "        }\n",
    "        \n",
    "        // 开始求解\n",
    "        for( int i = row - 2; i >= 0; i-- ) {\n",
    "            for( int j = 0; j <= i; j++ ) {\n",
    "                dp[j] = Math.min(dp[j], dp[j+1]) + triangle.get(i).get(j);\n",
    "            }\n",
    "        }\n",
    "        \n",
    "        return dp[0];\n",
    "    }\n",
    "}\n",
    "```"
   ]
  },
  {
   "cell_type": "markdown",
   "metadata": {},
   "source": [
    "> 拓展：如果是求最大路径，状态转移中换成max就好。"
   ]
  },
  {
   "cell_type": "markdown",
   "metadata": {},
   "source": [
    "## 2.2 返回最短路径"
   ]
  },
  {
   "cell_type": "markdown",
   "metadata": {},
   "source": [
    "题目与上面一样，但此时我们不仅需要最短路径的长度，还需要返回所有满足条件的路径，如：\n",
    "\n",
    "\n",
    "```\n",
    "[\n",
    "     [2],\n",
    "    [3,4],\n",
    "   [6,5,7],\n",
    "  [4,1,8,3]\n",
    "]\n",
    "```\n",
    "\n",
    "返回最短路径是：`\"2->3->5->1\"`"
   ]
  },
  {
   "cell_type": "markdown",
   "metadata": {},
   "source": [
    "```java\n",
    "public String minimumPath(List<List<Integer>> Triangle) {\n",
    "        // 思路：动态规划\n",
    "        // 需要使用一个链表存储路径数据\n",
    "        List<String> res = new ArrayList<>();\n",
    "\n",
    "        int row = Triangle.size();\n",
    "        int[] memo = new int[row];\n",
    "\n",
    "        for( int i = 0; i < row; i++ ) {\n",
    "            memo[i] = Triangle.get(row-1).get(i);\n",
    "            res.add(String.valueOf(memo[i]));\n",
    "        }\n",
    "\n",
    "        for( int i = row - 2; i >= 0; i-- ) {\n",
    "            List<String> subList = new ArrayList<>();\n",
    "            for( int j = 0; j <= i; j++ ) {\n",
    "                // 判断大小\n",
    "                if( memo[j] < memo[j+1] ) {\n",
    "                    // 更新路径\n",
    "                    StringBuilder sb = new StringBuilder();\n",
    "                    sb.append(Triangle.get(i).get(j));\n",
    "                    sb.append(\"->\");\n",
    "                    sb.append(res.get(j));\n",
    "                    subList.add(sb.toString());\n",
    "\n",
    "                    memo[j] = memo[j] + Triangle.get(i).get(j);\n",
    "                } else {\n",
    "                    // 更新路径\n",
    "                    StringBuilder sb = new StringBuilder();\n",
    "                    sb.append(Triangle.get(i).get(j));\n",
    "                    sb.append(\"->\");\n",
    "                    sb.append(res.get(j+1));\n",
    "                    subList.add(sb.toString());\n",
    "\n",
    "                    memo[j] = memo[j+1] + Triangle.get(i).get(j);\n",
    "                }\n",
    "\n",
    "            }\n",
    "            // 更新res\n",
    "            res = subList;\n",
    "        }\n",
    "\n",
    "        return res.get(0);\n",
    "    }\n",
    "```"
   ]
  },
  {
   "cell_type": "markdown",
   "metadata": {},
   "source": [
    "# 3 矩形求路径之和问题"
   ]
  },
  {
   "cell_type": "markdown",
   "metadata": {},
   "source": [
    "## 3.1 最小路径之和\n",
    "\n",
    "给定一个$m\\times n$的矩形，求一条从左上角到右下角的最小路径之和。要求在矩形中只能向右和向下移动。\n",
    "\n",
    "```\n",
    "[\n",
    "  [1,3,1],\n",
    "  [1,5,1],\n",
    "  [4,2,1]\n",
    "]\n",
    "```\n",
    "\n",
    "例如最小路径之和为`1->3->1->1->1`。假设我们在矩形中的点$(2, 1)$处，此时从左上角到达该点的最小路径之和应该为到达点$(2,0)$和到达点$(1,1)$的最小路径中取小。因此我们可以定义出状态和状态转移：\n",
    "\n",
    "- 状态函数：$f(i, j)$代表从左上角到点$(i, j)$的最小路径之和；\n",
    "- 状态转移：$f(i, j) = \\min\\{f(i-1, j), f(i, j-1)\\} + grid[i][j]$;\n",
    "\n",
    "考虑到在求解过程中，对于使用过的grid中元素不再使用，因此可以直接在grid本身上进行dp求解，无需开辟新的空间。"
   ]
  },
  {
   "cell_type": "markdown",
   "metadata": {},
   "source": [
    "```java\n",
    "class Solution {\n",
    "    public int minPathSum(int[][] grid) {\n",
    "        // 思路：动态规划\n",
    "        // 定义状态：f(i, j)代表从左上角到点(i, j)的最短路径\n",
    "        // 状态转移：f(i, j) = Math.min( f(i-1, j), f(i, j-1) ) + grid[i][j]\n",
    "        // 时间复杂度：O(n)  # n个元素\n",
    "        // 空间复杂度：O(1)\n",
    "        \n",
    "        int m = grid.length;\n",
    "        if( m == 0 )\n",
    "            return -1;\n",
    "        \n",
    "        int n = grid[0].length;\n",
    "        \n",
    "        // 初始化第一行\n",
    "        for( int j = 1; j < n; j++ ) {\n",
    "            grid[0][j] += grid[0][j-1];\n",
    "        }\n",
    "        \n",
    "        // 初始化第一列\n",
    "        for( int i = 1; i < m; i++ ) {\n",
    "            grid[i][0] += grid[i-1][0];\n",
    "        }\n",
    "        \n",
    "        // dp\n",
    "        for( int i = 1; i < m; i++ ) {\n",
    "            for( int j = 1; j < n; j++ ) {\n",
    "                grid[i][j] = Math.min(grid[i-1][j], grid[i][j-1]) + grid[i][j];\n",
    "            }\n",
    "        }\n",
    "        \n",
    "        return grid[m-1][n-1];\n",
    "    }\n",
    "}\n",
    "```"
   ]
  },
  {
   "cell_type": "markdown",
   "metadata": {},
   "source": [
    "> 拓展：当grid中存在障碍物时，需要在状态转移时进行判断。"
   ]
  }
 ],
 "metadata": {
  "kernelspec": {
   "display_name": "Python 3",
   "language": "python",
   "name": "python3"
  },
  "language_info": {
   "codemirror_mode": {
    "name": "ipython",
    "version": 3
   },
   "file_extension": ".py",
   "mimetype": "text/x-python",
   "name": "python",
   "nbconvert_exporter": "python",
   "pygments_lexer": "ipython3",
   "version": "3.6.0"
  }
 },
 "nbformat": 4,
 "nbformat_minor": 2
}
