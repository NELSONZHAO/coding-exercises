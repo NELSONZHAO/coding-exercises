{
 "cells": [
  {
   "cell_type": "markdown",
   "metadata": {},
   "source": [
    "# 1 斐波那契类问题"
   ]
  },
  {
   "cell_type": "markdown",
   "metadata": {},
   "source": [
    "[斐波那切数列问题](https://leetcode.com/problems/fibonacci-number/)是动态规划中的经典和基础问题，由它又衍生出其它很多类型的变体，如[跳台阶](https://leetcode.com/problems/climbing-stairs/)、[矩形覆盖](https://www.nowcoder.com/practice/72a5a919508a4251859fb2cfb987a0e6?tpId=13&tqId=11163&tPage=1&rp=1&ru=%2Fta%2Fcoding-interviews&qru=%2Fta%2Fcoding-interviews%2Fquestion-ranking)等问题。\n",
    "\n",
    "斐波那契数列问题主要的解法有两种：\n",
    "- 1.自上而下：即使用递归+记忆化搜索的方式进行求解；\n",
    "- 2.自下而上：利用动态规划进行求解。\n",
    "\n",
    "更一般地，所有动态规划问题，在本质上都是递归问题的逆向求解过程。**维基百科中对动态规划的定义：将原问题拆解为若干个子问题，同时保持各个子问题的答案，使得每个子问题只求解一次，最终获得原问题的答案。**\n",
    "\n",
    "在使用递归求解时，会出现**重叠子问题**，重叠子问题可以理解为递归中出现多次求解同一个子问题，这时就需要考虑加入记忆化搜索，或者直接转化为动态规划求解，避免对同一子问题的多次求解。递归和动态规划的关系可以概括为下图：\n",
    "\n",
    "![](images/recursion-and-dp.png)"
   ]
  },
  {
   "cell_type": "markdown",
   "metadata": {},
   "source": [
    "# 2 斐波那切数列的多个解法"
   ]
  },
  {
   "cell_type": "markdown",
   "metadata": {},
   "source": [
    "## 2.1 递归求解"
   ]
  },
  {
   "cell_type": "markdown",
   "metadata": {},
   "source": [
    "对于斐波那契数列问题，最直接的思路就是使用递归求解，因为其本身具有$f(n) = f(n-1) + f(n-2)$这样的递归结构。递归求解代码如下：\n",
    "\n",
    "```java\n",
    "class Solution {\n",
    "    public int Fibonacci(int n) {\n",
    "        // 递归结束条件\n",
    "        if( n == 0 )\n",
    "            return 0;\n",
    "\n",
    "        if( n == 1 )\n",
    "            return 1;\n",
    "\n",
    "        // 递归过程\n",
    "        return Fibonacci(n-1) + Fibonacci(n-2);\n",
    "    }\n",
    "}\n",
    "```"
   ]
  },
  {
   "cell_type": "markdown",
   "metadata": {},
   "source": [
    "## 2.2 递归+记忆化搜索"
   ]
  },
  {
   "cell_type": "markdown",
   "metadata": {},
   "source": [
    "当我们使用上面的递归方式求解时，会发现随着n的增大，计算的时间会变得越来越久，通过分析我们可以发现，在递归过程中存在着大量的重复计算。\n",
    "\n",
    "例如当$n=5$时，$f(5)=f(4)+f(3)$；紧接着递归求解$f(4)$时，又会递归地计算$f(4)=f(3)+f(2)$，可以发现我们对$f(3)$进行了多次的重复递归计算。当随着n逐渐变大时，递归的重复计算量就会越来越大。这类问题其实就是重叠子问题，解决重叠子问题最直接的方式就是开辟新的空间来对问题进行记忆化搜索，也就是说对于历史求解过的子问题，我们存储起来，当下次再遇到该问题时，我们不再重复求解，而是直接把答案取出来。代码如下：\n",
    "\n",
    "```java\n",
    "class Solution {\n",
    "    \n",
    "    int[] memo;\n",
    "    public int Fibonacci(int n) {\n",
    "        // 记忆化搜索，用来存储求结果的子问题\n",
    "        memo = new int[n+1];\n",
    "        Arrays.fill(memo, -1);\n",
    "        \n",
    "        return fib(n);\n",
    "    }\n",
    "                \n",
    "    private int fib(int n) {\n",
    "        // 递归结束条件\n",
    "        if( n == 0 )\n",
    "            return 0;\n",
    "\n",
    "        if( n == 1 )\n",
    "            return 1;\n",
    "\n",
    "        // 递归过程\n",
    "        if( memo[n] == -1) \n",
    "            memo[n] = fib(n-1) + fib(n-2);\n",
    "                            \n",
    "        return memo[n];\n",
    "    }\n",
    "}                 \n",
    "```"
   ]
  },
  {
   "cell_type": "markdown",
   "metadata": {},
   "source": [
    "## 2.3 动态规划\n",
    "\n",
    "通过2.2中加入记忆化搜索的改进，我们进一步地发现，在求解问题时，其依赖于前序的子问题结果，因此我们直接采用自底向上的方式去求解问题，这也就是我们的动态规划思想。代码如下：\n",
    "\n",
    "```java\n",
    "class Solution {\n",
    "    \n",
    "    public int Fibonacci(int n) {\n",
    "        // 动态规划\n",
    "        // 状态定义：dp[n] 代表第n个斐波那契额数\n",
    "        // 状态转移：dp[n] = dp[n-1] + dp[n-2];\n",
    "        if( n <= 1 )\n",
    "            return n;\n",
    "                               \n",
    "        int[] dp = new int[n+1];\n",
    "        \n",
    "        dp[0] = 0;\n",
    "        dp[1] = 1;\n",
    "        \n",
    "        for( int i = 2; i <= n; i++ ) {\n",
    "            dp[i] = dp[i-1] + dp[i-2];\n",
    "        }\n",
    "        \n",
    "        return dp[n];  \n",
    "    }  \n",
    "}\n",
    "```"
   ]
  },
  {
   "cell_type": "markdown",
   "metadata": {},
   "source": [
    "# 3 斐波那切数列问题变体"
   ]
  },
  {
   "cell_type": "markdown",
   "metadata": {},
   "source": [
    "## 3.1 跳台阶问题\n",
    "\n",
    "[跳台阶问题](https://leetcode.com/problems/climbing-stairs/)其实也是一个斐波那契数列，其问题描述为：给定一个n阶的台阶，我们需要从最底部跳到最顶端，每次可以跳1阶或2阶，求从底部跳到顶部有多少种方式？\n",
    "\n",
    "假设我们现在站在第$i$个台阶上，那么我们的上一时刻既可以是从第$i-1$阶台阶跳上来的，也可以是从第$i-2$阶台阶跳上来的。因此这个问题就抽象成了一个斐波那契数列问题。代码如下：\n",
    "\n",
    "```java\n",
    "class Solution {\n",
    "    public int climbStairs(int n) {\n",
    "        // 状态定义：dp[n]代表跳n阶台阶的方法数\n",
    "        // 状态转移：dp[n] = dp[n-1] + dp[n-2];\n",
    "        \n",
    "        // 时间复杂度：O(n)\n",
    "        // 空间复杂度：O(n)\n",
    "        if( n <= 1 )\n",
    "            return 1;\n",
    "        \n",
    "        int[] dp = new int[n+1];\n",
    "        dp[0] = 1;\n",
    "        dp[1] = 1;\n",
    "        \n",
    "        for( int i = 2; i <= n; i++ ) {\n",
    "            dp[i] = dp[i-1] + dp[i-2];\n",
    "        }\n",
    "        \n",
    "        return dp[n];\n",
    "    }\n",
    "}\n",
    "```"
   ]
  },
  {
   "cell_type": "markdown",
   "metadata": {},
   "source": [
    "> 进一步地，假设我们还是需要跳n阶台阶，但每次可以跳任意步。例如有三阶台阶，我们可以1+1+1地跳，也可以1+2地跳或者2+1地跳，甚至可以一下子跳3阶到达顶端。此时求解我们从低端跳到顶端有多少种跳法。\n",
    "\n",
    "> 这个问题实际上跟斐波那切数列没关系，只是跳台阶问题的一个延伸。当我们站在第$i$个台阶上时，我们的上一时刻可以是从$[0,i-1]$区间内任意位置跳过来的。那么我们很容易可以得到状态转移：$f(i) = f(i-1) + f(i-2) + \\cdots + f(1) + f(0)$；当我们站在$i+1$个台阶上时，有$f(i+1) = f(i) + f(i-1) + \\cdots + f(1) + f(0)$。根据这两个式子很容易得到$f(i+1) = 2\\times f(i)$，即转化为一个数学问题。"
   ]
  },
  {
   "cell_type": "markdown",
   "metadata": {},
   "source": [
    "## 3.2 矩形覆盖问题"
   ]
  },
  {
   "cell_type": "markdown",
   "metadata": {},
   "source": [
    "矩形覆盖问题是《剑指offer》中的一道题，题目描述如下：\n",
    "\n",
    "我们可以用$2\\times 1$的小矩形横着或者竖着去覆盖更大的矩形。请问用n个$2\\times 1$的小矩形无重叠地覆盖一个$2\\times n$的大矩形，总共有多少种方法？"
   ]
  },
  {
   "cell_type": "markdown",
   "metadata": {},
   "source": [
    "我们假设当前有一个$2\\times 5$的矩形，如下图所示，我们需要用n个$2\\times 1$的小矩形去覆盖。假设我们知道$2\\times 4$的矩形覆盖方法数为n种，那么$2\\times 5$的矩形在此基础上，只能竖着放一个小矩形，因此，小矩形竖着放的方法我们已经考虑完了；紧接着考虑横着放的情况，即在$2\\times 3$的基础上来进行增加，只有将两个小矩形横着放这一种方式，因此竖着放的方法已经被$2\\times 4$计算过了。因此我们可以比较容易地定义出我们的状态转移：$f(n)=f(n-1) + f(n-2)$，即转化为一个斐波那切数列问题。"
   ]
  },
  {
   "cell_type": "markdown",
   "metadata": {},
   "source": [
    "![](images/rectangular-cover.png)"
   ]
  },
  {
   "cell_type": "markdown",
   "metadata": {},
   "source": [
    "代码如下：\n",
    "\n",
    "```java\n",
    "public class Solution {\n",
    "    public int RectCover(int target) {\n",
    "        // 定义状态：F(n)为2*n矩形的覆盖方法数的方法\n",
    "        // 转移：F(n) = F(n-1) + F(n-2)\n",
    "        // 动态规划\n",
    "        int[] memo = new int[target+1];\n",
    "        \n",
    "        if( target <= 0 )\n",
    "            return 0;\n",
    "        \n",
    "        // 初始化矩阵\n",
    "        memo[0] = 1;\n",
    "        memo[1] = 1;\n",
    "        \n",
    "        for( int i = 2; i <= target; i++ ) {\n",
    "            memo[i] = memo[i-1] + memo[i-2];\n",
    "        }\n",
    "        \n",
    "        return memo[target];\n",
    "    }\n",
    "}\n",
    "```"
   ]
  },
  {
   "cell_type": "markdown",
   "metadata": {},
   "source": [
    "## 3.3 Nth-Tribonacci数列\n",
    "\n",
    "[Tribonacci数列问题](https://leetcode.com/problems/n-th-tribonacci-number/)是LeetCode中一道新题，其定义为：\n",
    "\n",
    "$$T_0 = 0, T_1 = 1, T_2 = 1$$\n",
    "$$T_{n+3} = T_n + T_{n+1} + T_{n+2}$$\n",
    "\n",
    "给定n，求解$T_n$。这个题其实就是Fibonacci数列的一种扩展，整体求解思路一致，也比较简单。"
   ]
  },
  {
   "cell_type": "markdown",
   "metadata": {},
   "source": [
    "代码如下：\n",
    "\n",
    "```java\n",
    "class Solution {\n",
    "    public int tribonacci(int n) {\n",
    "        // 定义状态：f(n)代表第n个tribonacci数\n",
    "        // 状态转移：f(n) = f(n-1) + f(n-2) + f(n-3)\n",
    "        if( n < 0 )\n",
    "            return -1;\n",
    "        \n",
    "        if( n == 0 )\n",
    "            return 0;\n",
    "        if( n <= 2 )\n",
    "            return 1;\n",
    "        \n",
    "        int[] dp = new int[n+1];\n",
    "        dp[0] = 0;\n",
    "        dp[1] = 1;\n",
    "        dp[2] = 1;\n",
    "        \n",
    "        for( int i = 3; i <= n; i++ ) {\n",
    "            dp[i] = dp[i-1] + dp[i-2] + dp[i-3];\n",
    "        }\n",
    "        \n",
    "        return dp[n];\n",
    "    }\n",
    "}\n",
    "```"
   ]
  },
  {
   "cell_type": "markdown",
   "metadata": {},
   "source": [
    "# 4 总结"
   ]
  },
  {
   "cell_type": "markdown",
   "metadata": {},
   "source": [
    "Fibonacci数列问题是动态规划问题的经典题目，分别可以使用递归、记忆化搜索、动态规划进行解决。"
   ]
  }
 ],
 "metadata": {
  "kernelspec": {
   "display_name": "Python 3",
   "language": "python",
   "name": "python3"
  },
  "language_info": {
   "codemirror_mode": {
    "name": "ipython",
    "version": 3
   },
   "file_extension": ".py",
   "mimetype": "text/x-python",
   "name": "python",
   "nbconvert_exporter": "python",
   "pygments_lexer": "ipython3",
   "version": "3.6.0"
  }
 },
 "nbformat": 4,
 "nbformat_minor": 2
}
